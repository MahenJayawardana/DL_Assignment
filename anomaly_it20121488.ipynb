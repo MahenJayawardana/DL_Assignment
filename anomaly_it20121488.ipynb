{
  "nbformat": 4,
  "nbformat_minor": 0,
  "metadata": {
    "colab": {
      "provenance": [],
      "authorship_tag": "ABX9TyOBdUTRfyT4aZt00VGkqHOB",
      "include_colab_link": true
    },
    "kernelspec": {
      "name": "python3",
      "display_name": "Python 3"
    },
    "language_info": {
      "name": "python"
    }
  },
  "cells": [
    {
      "cell_type": "markdown",
      "metadata": {
        "id": "view-in-github",
        "colab_type": "text"
      },
      "source": [
        "<a href=\"https://colab.research.google.com/github/MahenJayawardana/DL_Assignment/blob/anomaly_it20121488/anomaly_it20121488.ipynb\" target=\"_parent\"><img src=\"https://colab.research.google.com/assets/colab-badge.svg\" alt=\"Open In Colab\"/></a>"
      ]
    },
    {
      "cell_type": "code",
      "execution_count": null,
      "metadata": {
        "id": "YrADiljJjRKl"
      },
      "outputs": [],
      "source": [
        "import os\n",
        "import pandas as pd\n",
        "import numpy as np\n",
        "import tensorflow as tf\n",
        "import shutil\n",
        "from sklearn.model_selection import train_test_split\n",
        "from keras.preprocessing.image import ImageDataGenerator\n",
        "from keras.layers import Conv2D, MaxPooling2D, Flatten, Dense, Input, Reshape\n",
        "from keras.models import Sequential, Model\n",
        "from keras.optimizers import Adam\n",
        "\n",
        "# Define data and URLs\n",
        "image_data_url = \"https://isic-challenge-data.s3.amazonaws.com/2020/ISIC_2020_Training_JPEG.zip\"\n",
        "metadata_url = \"https://isic-challenge-data.s3.amazonaws.com/2020/ISIC_2020_Training_GroundTruth.csv\"\n",
        "data_dir = './data'\n",
        "\n",
        "# Download and unzip data (if not already downloaded)\n",
        "if not os.path.exists(os.path.join(data_dir, 'ISIC_2020_Training_JPEG')):\n",
        "    os.system(f\"wget {image_data_url} -P {data_dir}\")\n",
        "    os.system(f\"unzip {os.path.join(data_dir, 'ISIC_2020_Training_JPEG.zip')} -d {data_dir}\")\n",
        "\n",
        "# Load metadata\n",
        "metadata = pd.read_csv(metadata_url)\n"
      ]
    },
    {
      "cell_type": "code",
      "source": [
        "# Remove any predefined labels, as this is an anomaly detection task\n",
        "metadata['diagnosis'] = 'unknown'\n",
        "\n",
        "# Identify classes with very few samples and group them as 'unknown'\n",
        "class_counts = metadata['diagnosis'].value_counts()\n",
        "rare_classes = class_counts[class_counts < 2].index\n",
        "metadata['diagnosis'] = metadata['diagnosis'].apply(lambda x: 'unknown' if x in rare_classes else x)\n",
        "\n",
        "# Split the data into training and validation sets\n",
        "X_train, X_val, y_train, y_val = train_test_split(\n",
        "    metadata['image_name'], (metadata['diagnosis'] != 'unknown').astype(int),  # Use 'diagnosis' for labels\n",
        "    test_size=0.2, random_state=42, stratify=metadata['diagnosis']\n",
        ")\n",
        "\n",
        "# Define directories for training and validation data\n",
        "train_dir = os.path.join(data_dir, 'train')\n",
        "val_dir = os.path.join(data_dir, 'validation')\n",
        "\n",
        "print(\"X_train (image names):\")\n",
        "print(X_train.head())\n",
        "\n",
        "print(\"\\ny_train (labels based on 'diagnosis'):\")\n",
        "print(y_train.head())\n",
        "\n",
        "for class_name in ['known', 'unknown']:\n",
        "    os.makedirs(os.path.join(train_dir, class_name), exist_ok=True)\n",
        "    os.makedirs(os.path.join(val_dir, class_name), exist_ok=True)\n",
        "\n",
        "for image_name, label in zip(X_train, y_train):\n",
        "    class_name = 'known' if label == 1 else 'unknown'  # Corrected class assignment\n",
        "    source_path = os.path.join(data_dir, 'train', f'{image_name}.jpg')  # Updated path to 'train' folder\n",
        "    destination_path = os.path.join(train_dir, class_name, f'{image_name}.jpg')\n",
        "\n",
        "    # Ensure the source image exists before copying\n",
        "    if os.path.exists(source_path):\n",
        "        os.makedirs(os.path.dirname(destination_path), exist_ok=True)\n",
        "        shutil.copy(source_path, destination_path)\n",
        "    else:\n",
        "        print(f\"Image not found: {source_path}\")\n",
        "\n",
        "for image_name, label in zip(X_val, y_val):\n",
        "    class_name = 'known' if label == 1 else 'unknown'\n",
        "    source_path = os.path.join(data_dir, 'train', f'{image_name}.jpg')  # Updated path to 'train' folder\n",
        "    destination_path = os.path.join(val_dir, class_name, f'{image_name}.jpg')\n",
        "\n",
        "    # Ensure the source image exists before copying\n",
        "    if os.path.exists(source_path):\n",
        "        os.makedirs(os.path.dirname(destination_path), exist_ok=True)\n",
        "        shutil.copy(source_path, destination_path)\n",
        "    else:\n",
        "        print(f\"Image not found: {source_path}\")\n",
        "\n",
        "class_distribution_train = y_train.value_counts()\n",
        "print(\"Class distribution in the training set:\\n\", class_distribution_train)\n",
        "\n",
        "# Display the class distribution in the validation set\n",
        "class_distribution_val = y_val.value_counts()\n",
        "print(\"\\nClass distribution in the validation set:\\n\", class_distribution_val)\n"
      ],
      "metadata": {
        "colab": {
          "base_uri": "https://localhost:8080/"
        },
        "id": "rwdhzRAxjb6-",
        "outputId": "b61727e0-c7b9-4654-e5a1-709006ad442c"
      },
      "execution_count": null,
      "outputs": [
        {
          "output_type": "stream",
          "name": "stdout",
          "text": [
            "X_train (image names):\n",
            "11981    ISIC_3689984\n",
            "6835     ISIC_2142639\n",
            "15126    ISIC_4632059\n",
            "2532     ISIC_0860318\n",
            "28694    ISIC_8679067\n",
            "Name: image_name, dtype: object\n",
            "\n",
            "y_train (labels based on 'diagnosis'):\n",
            "11981    0\n",
            "6835     0\n",
            "15126    0\n",
            "2532     0\n",
            "28694    0\n",
            "Name: diagnosis, dtype: int64\n",
            "Class distribution in the training set:\n",
            " 0    26500\n",
            "Name: diagnosis, dtype: int64\n",
            "\n",
            "Class distribution in the validation set:\n",
            " 0    6626\n",
            "Name: diagnosis, dtype: int64\n"
          ]
        }
      ]
    },
    {
      "cell_type": "code",
      "source": [
        "from keras.layers import Flatten"
      ],
      "metadata": {
        "id": "YLksNkObjgd4"
      },
      "execution_count": null,
      "outputs": []
    },
    {
      "cell_type": "code",
      "source": [
        "model = Sequential([\n",
        "    Input(shape=(224, 224, 3)),\n",
        "    Conv2D(32, (3, 3), activation='relu', padding='same'),\n",
        "    MaxPooling2D((2, 2), padding='same'),\n",
        "    Conv2D(64, (3, 3), activation='relu', padding='same'),\n",
        "    MaxPooling2D((2, 2), padding='same'),\n",
        "    Conv2D(128, (3, 3), activation='relu', padding='same'),\n",
        "    MaxPooling2D((2, 2), padding='same'),\n",
        "    Flatten(),\n",
        "    Dense(512, activation='relu'),\n",
        "    Dense(128, activation='relu'),\n",
        "    Dense(224 * 224 * 3, activation='sigmoid'),\n",
        "    Reshape((224, 224, 3))\n",
        "])\n"
      ],
      "metadata": {
        "id": "EbMYrtqIjin2"
      },
      "execution_count": null,
      "outputs": []
    },
    {
      "cell_type": "code",
      "source": [
        "# Compile the model\n",
        "model.compile(optimizer='adam', loss='mean_squared_error')"
      ],
      "metadata": {
        "id": "Ld0uMvHCnZEZ"
      },
      "execution_count": null,
      "outputs": []
    },
    {
      "cell_type": "code",
      "source": [
        "\n",
        "\n",
        "# Train the autoencoder\n",
        "train_datagen = ImageDataGenerator(rescale=1.0 / 255)\n",
        "train_generator = train_datagen.flow_from_directory(\n",
        "    train_dir,\n",
        "    target_size=(224, 224),\n",
        "    batch_size=32,\n",
        "    class_mode='input',  # Input and output are the same for autoencoder\n",
        "    shuffle=True\n",
        ")\n"
      ],
      "metadata": {
        "colab": {
          "base_uri": "https://localhost:8080/"
        },
        "id": "7qVT850Pjlyy",
        "outputId": "dd7cb5bc-9292-42fd-a960-dfbe65ae589e"
      },
      "execution_count": null,
      "outputs": [
        {
          "output_type": "stream",
          "name": "stdout",
          "text": [
            "Found 26500 images belonging to 2 classes.\n"
          ]
        }
      ]
    },
    {
      "cell_type": "code",
      "source": [
        "# Calculate reconstruction errors for each image in the validation set\n",
        "validation_datagen = ImageDataGenerator(rescale=1.0 / 255)\n",
        "validation_generator = validation_datagen.flow_from_directory(\n",
        "    val_dir,\n",
        "    target_size=(224, 224),\n",
        "    batch_size=32,\n",
        "    class_mode='input',  # Input and output are the same for autoencoder\n",
        "    shuffle=False\n",
        ")"
      ],
      "metadata": {
        "colab": {
          "base_uri": "https://localhost:8080/"
        },
        "id": "sKtL20AMqAve",
        "outputId": "3db179cd-349e-4658-9a17-7a47c1a2922c"
      },
      "execution_count": null,
      "outputs": [
        {
          "output_type": "stream",
          "name": "stdout",
          "text": [
            "Found 6626 images belonging to 2 classes.\n"
          ]
        }
      ]
    },
    {
      "cell_type": "code",
      "source": [
        "history = model.fit(\n",
        "    train_generator,\n",
        "    epochs=1,  # Adjust the number of epochs as needed\n",
        "    steps_per_epoch=len(train_generator),\n",
        "    verbose=1,\n",
        "    validation_data=validation_generator\n",
        ")\n"
      ],
      "metadata": {
        "colab": {
          "base_uri": "https://localhost:8080/"
        },
        "id": "tHz_44W1jqsK",
        "outputId": "fb8e9bf0-b02d-4a5e-9be2-530d67a1aa08"
      },
      "execution_count": null,
      "outputs": [
        {
          "output_type": "stream",
          "name": "stdout",
          "text": [
            "829/829 [==============================] - 6432s 8s/step - loss: 0.0032 - val_loss: 0.0029\n"
          ]
        }
      ]
    },
    {
      "cell_type": "code",
      "source": [
        "# Get the validation loss\n",
        "evaluation = model.evaluate(validation_generator)\n",
        "print(\"Validation Loss:\", evaluation)"
      ],
      "metadata": {
        "colab": {
          "base_uri": "https://localhost:8080/"
        },
        "id": "U_CvXDY9fz83",
        "outputId": "8f68986b-6137-4ae3-e6b1-ca99d8ac9d76"
      },
      "execution_count": null,
      "outputs": [
        {
          "output_type": "stream",
          "name": "stdout",
          "text": [
            "208/208 [==============================] - 703s 3s/step - loss: 0.0029\n",
            "Validation Loss: 0.00289997854270041\n"
          ]
        }
      ]
    },
    {
      "cell_type": "code",
      "source": [
        "validation_generator.reset()  # Reset the generator to the beginning\n",
        "reconstruction_errors = []\n",
        "for _ in range(len(validation_generator)):\n",
        "    batch = validation_generator.next()\n",
        "    images = batch[0]\n",
        "    reconstructions = model.predict(images)\n",
        "    mse = np.mean(np.square(images - reconstructions), axis=(1, 2, 3))  # Calculate MSE for each image\n",
        "    reconstruction_errors.extend(mse.tolist())"
      ],
      "metadata": {
        "colab": {
          "base_uri": "https://localhost:8080/"
        },
        "id": "tgJNBbMYjzkn",
        "outputId": "4ed88e4e-9965-409c-fdcb-e0803570eb2e"
      },
      "execution_count": 38,
      "outputs": [
        {
          "output_type": "stream",
          "name": "stdout",
          "text": [
            "1/1 [==============================] - 1s 1s/step\n",
            "1/1 [==============================] - 1s 1s/step\n",
            "1/1 [==============================] - 1s 1s/step\n",
            "1/1 [==============================] - 1s 1s/step\n",
            "1/1 [==============================] - 1s 1s/step\n",
            "1/1 [==============================] - 1s 1s/step\n",
            "1/1 [==============================] - 1s 1s/step\n",
            "1/1 [==============================] - 2s 2s/step\n",
            "1/1 [==============================] - 1s 1s/step\n",
            "1/1 [==============================] - 1s 1s/step\n",
            "1/1 [==============================] - 2s 2s/step\n",
            "1/1 [==============================] - 1s 1s/step\n",
            "1/1 [==============================] - 2s 2s/step\n",
            "1/1 [==============================] - 1s 1s/step\n",
            "1/1 [==============================] - 1s 1s/step\n",
            "1/1 [==============================] - 1s 953ms/step\n",
            "1/1 [==============================] - 1s 1s/step\n",
            "1/1 [==============================] - 1s 1s/step\n",
            "1/1 [==============================] - 1s 1s/step\n",
            "1/1 [==============================] - 1s 1s/step\n",
            "1/1 [==============================] - 1s 1s/step\n",
            "1/1 [==============================] - 1s 1s/step\n",
            "1/1 [==============================] - 1s 1s/step\n",
            "1/1 [==============================] - 1s 1s/step\n",
            "1/1 [==============================] - 1s 1s/step\n",
            "1/1 [==============================] - 1s 1s/step\n",
            "1/1 [==============================] - 1s 966ms/step\n",
            "1/1 [==============================] - 1s 991ms/step\n",
            "1/1 [==============================] - 2s 2s/step\n",
            "1/1 [==============================] - 1s 1s/step\n",
            "1/1 [==============================] - 1s 1s/step\n",
            "1/1 [==============================] - 2s 2s/step\n",
            "1/1 [==============================] - 1s 1s/step\n",
            "1/1 [==============================] - 1s 1s/step\n",
            "1/1 [==============================] - 2s 2s/step\n",
            "1/1 [==============================] - 1s 1s/step\n",
            "1/1 [==============================] - 1s 1s/step\n",
            "1/1 [==============================] - 2s 2s/step\n",
            "1/1 [==============================] - 1s 1s/step\n",
            "1/1 [==============================] - 1s 971ms/step\n",
            "1/1 [==============================] - 2s 2s/step\n",
            "1/1 [==============================] - 1s 1s/step\n",
            "1/1 [==============================] - 1s 927ms/step\n",
            "1/1 [==============================] - 2s 2s/step\n",
            "1/1 [==============================] - 1s 1s/step\n",
            "1/1 [==============================] - 1s 1s/step\n",
            "1/1 [==============================] - 2s 2s/step\n",
            "1/1 [==============================] - 1s 1s/step\n",
            "1/1 [==============================] - 1s 1s/step\n",
            "1/1 [==============================] - 2s 2s/step\n",
            "1/1 [==============================] - 1s 1s/step\n",
            "1/1 [==============================] - 1s 1s/step\n",
            "1/1 [==============================] - 1s 1s/step\n",
            "1/1 [==============================] - 1s 1s/step\n",
            "1/1 [==============================] - 1s 1s/step\n",
            "1/1 [==============================] - 1s 1s/step\n",
            "1/1 [==============================] - 2s 2s/step\n",
            "1/1 [==============================] - 1s 979ms/step\n",
            "1/1 [==============================] - 1s 1s/step\n",
            "1/1 [==============================] - 2s 2s/step\n",
            "1/1 [==============================] - 1s 1s/step\n",
            "1/1 [==============================] - 1s 1s/step\n",
            "1/1 [==============================] - 1s 1s/step\n",
            "1/1 [==============================] - 1s 1s/step\n",
            "1/1 [==============================] - 1s 1s/step\n",
            "1/1 [==============================] - 1s 1s/step\n",
            "1/1 [==============================] - 1s 1s/step\n",
            "1/1 [==============================] - 1s 1s/step\n",
            "1/1 [==============================] - 1s 1s/step\n",
            "1/1 [==============================] - 1s 1s/step\n",
            "1/1 [==============================] - 1s 1s/step\n",
            "1/1 [==============================] - 1s 1s/step\n",
            "1/1 [==============================] - 1s 1s/step\n",
            "1/1 [==============================] - 1s 1s/step\n",
            "1/1 [==============================] - 1s 1s/step\n",
            "1/1 [==============================] - 1s 1s/step\n",
            "1/1 [==============================] - 2s 2s/step\n",
            "1/1 [==============================] - 3s 3s/step\n",
            "1/1 [==============================] - 1s 1s/step\n",
            "1/1 [==============================] - 1s 1s/step\n",
            "1/1 [==============================] - 1s 1s/step\n",
            "1/1 [==============================] - 1s 1s/step\n",
            "1/1 [==============================] - 1s 1s/step\n",
            "1/1 [==============================] - 2s 2s/step\n",
            "1/1 [==============================] - 1s 1s/step\n",
            "1/1 [==============================] - 1s 1s/step\n",
            "1/1 [==============================] - 2s 2s/step\n",
            "1/1 [==============================] - 1s 975ms/step\n",
            "1/1 [==============================] - 1s 1s/step\n",
            "1/1 [==============================] - 1s 995ms/step\n",
            "1/1 [==============================] - 1s 1s/step\n",
            "1/1 [==============================] - 1s 1s/step\n",
            "1/1 [==============================] - 1s 983ms/step\n",
            "1/1 [==============================] - 2s 2s/step\n",
            "1/1 [==============================] - 1s 1s/step\n",
            "1/1 [==============================] - 1s 1s/step\n",
            "1/1 [==============================] - 2s 2s/step\n",
            "1/1 [==============================] - 1s 1s/step\n",
            "1/1 [==============================] - 1s 1s/step\n",
            "1/1 [==============================] - 2s 2s/step\n",
            "1/1 [==============================] - 1s 973ms/step\n",
            "1/1 [==============================] - 1s 963ms/step\n",
            "1/1 [==============================] - 1s 999ms/step\n",
            "1/1 [==============================] - 2s 2s/step\n",
            "1/1 [==============================] - 1s 1s/step\n",
            "1/1 [==============================] - 1s 1s/step\n",
            "1/1 [==============================] - 1s 1s/step\n",
            "1/1 [==============================] - 1s 1s/step\n",
            "1/1 [==============================] - 1s 1s/step\n",
            "1/1 [==============================] - 1s 1s/step\n",
            "1/1 [==============================] - 1s 1s/step\n",
            "1/1 [==============================] - 1s 1s/step\n",
            "1/1 [==============================] - 1s 1s/step\n",
            "1/1 [==============================] - 1s 1s/step\n",
            "1/1 [==============================] - 1s 1s/step\n",
            "1/1 [==============================] - 1s 1s/step\n",
            "1/1 [==============================] - 1s 1s/step\n",
            "1/1 [==============================] - 1s 1s/step\n",
            "1/1 [==============================] - 1s 1s/step\n",
            "1/1 [==============================] - 1s 1s/step\n",
            "1/1 [==============================] - 1s 996ms/step\n",
            "1/1 [==============================] - 2s 2s/step\n",
            "1/1 [==============================] - 1s 992ms/step\n",
            "1/1 [==============================] - 1s 1s/step\n",
            "1/1 [==============================] - 1s 1s/step\n",
            "1/1 [==============================] - 1s 1s/step\n",
            "1/1 [==============================] - 1s 1s/step\n",
            "1/1 [==============================] - 1s 1s/step\n",
            "1/1 [==============================] - 2s 2s/step\n",
            "1/1 [==============================] - 1s 1s/step\n",
            "1/1 [==============================] - 1s 956ms/step\n",
            "1/1 [==============================] - 2s 2s/step\n",
            "1/1 [==============================] - 1s 1s/step\n",
            "1/1 [==============================] - 1s 985ms/step\n",
            "1/1 [==============================] - 2s 2s/step\n",
            "1/1 [==============================] - 1s 1s/step\n",
            "1/1 [==============================] - 1s 971ms/step\n",
            "1/1 [==============================] - 1s 1s/step\n",
            "1/1 [==============================] - 1s 1s/step\n",
            "1/1 [==============================] - 1s 1s/step\n",
            "1/1 [==============================] - 1s 1s/step\n",
            "1/1 [==============================] - 1s 1s/step\n",
            "1/1 [==============================] - 1s 1s/step\n",
            "1/1 [==============================] - 1s 1s/step\n",
            "1/1 [==============================] - 1s 1s/step\n",
            "1/1 [==============================] - 1s 1s/step\n",
            "1/1 [==============================] - 1s 1s/step\n",
            "1/1 [==============================] - 1s 1s/step\n",
            "1/1 [==============================] - 1s 1s/step\n",
            "1/1 [==============================] - 1s 963ms/step\n",
            "1/1 [==============================] - 2s 2s/step\n",
            "1/1 [==============================] - 1s 1s/step\n",
            "1/1 [==============================] - 1s 1s/step\n",
            "1/1 [==============================] - 1s 1s/step\n",
            "1/1 [==============================] - 1s 1s/step\n",
            "1/1 [==============================] - 1s 953ms/step\n",
            "1/1 [==============================] - 1s 1s/step\n",
            "1/1 [==============================] - 1s 1s/step\n",
            "1/1 [==============================] - 1s 1s/step\n",
            "1/1 [==============================] - 1s 1s/step\n",
            "1/1 [==============================] - 2s 2s/step\n",
            "1/1 [==============================] - 1s 1s/step\n",
            "1/1 [==============================] - 1s 977ms/step\n",
            "1/1 [==============================] - 1s 1s/step\n",
            "1/1 [==============================] - 1s 1s/step\n",
            "1/1 [==============================] - 1s 951ms/step\n",
            "1/1 [==============================] - 1s 1s/step\n",
            "1/1 [==============================] - 2s 2s/step\n",
            "1/1 [==============================] - 1s 949ms/step\n",
            "1/1 [==============================] - 1s 1s/step\n",
            "1/1 [==============================] - 2s 2s/step\n",
            "1/1 [==============================] - 1s 1s/step\n",
            "1/1 [==============================] - 1s 948ms/step\n",
            "1/1 [==============================] - 1s 999ms/step\n",
            "1/1 [==============================] - 1s 1s/step\n",
            "1/1 [==============================] - 1s 961ms/step\n",
            "1/1 [==============================] - 1s 925ms/step\n",
            "1/1 [==============================] - 2s 2s/step\n",
            "1/1 [==============================] - 1s 1s/step\n",
            "1/1 [==============================] - 1s 1s/step\n",
            "1/1 [==============================] - 2s 2s/step\n",
            "1/1 [==============================] - 1s 994ms/step\n",
            "1/1 [==============================] - 1s 949ms/step\n",
            "1/1 [==============================] - 2s 2s/step\n",
            "1/1 [==============================] - 1s 981ms/step\n",
            "1/1 [==============================] - 1s 1s/step\n",
            "1/1 [==============================] - 1s 1s/step\n",
            "1/1 [==============================] - 1s 945ms/step\n",
            "1/1 [==============================] - 1s 1s/step\n",
            "1/1 [==============================] - 2s 2s/step\n",
            "1/1 [==============================] - 1s 988ms/step\n",
            "1/1 [==============================] - 1s 1s/step\n",
            "1/1 [==============================] - 2s 2s/step\n",
            "1/1 [==============================] - 1s 1s/step\n",
            "1/1 [==============================] - 1s 1s/step\n",
            "1/1 [==============================] - 2s 2s/step\n",
            "1/1 [==============================] - 1s 1s/step\n",
            "1/1 [==============================] - 1s 965ms/step\n",
            "1/1 [==============================] - 2s 2s/step\n",
            "1/1 [==============================] - 1s 938ms/step\n",
            "1/1 [==============================] - 1s 1s/step\n",
            "1/1 [==============================] - 2s 2s/step\n",
            "1/1 [==============================] - 1s 1s/step\n",
            "1/1 [==============================] - 1s 1s/step\n",
            "1/1 [==============================] - 1s 1s/step\n",
            "1/1 [==============================] - 1s 1s/step\n",
            "1/1 [==============================] - 1s 1s/step\n",
            "1/1 [==============================] - 0s 166ms/step\n"
          ]
        }
      ]
    },
    {
      "cell_type": "code",
      "source": [
        "# Define a threshold for anomaly detection\n",
        "threshold = 0.02"
      ],
      "metadata": {
        "id": "S7n5pW_rj2XB"
      },
      "execution_count": 39,
      "outputs": []
    },
    {
      "cell_type": "code",
      "source": [
        "# Identify anomalies\n",
        "anomalies = [1 if error > threshold else 0 for error in reconstruction_errors]\n"
      ],
      "metadata": {
        "id": "0nEFnCFij4NO"
      },
      "execution_count": 40,
      "outputs": []
    },
    {
      "cell_type": "code",
      "source": [
        "import matplotlib.pyplot as plt\n",
        "\n",
        "# Class distribution in the training set\n",
        "class_distribution_train = y_train.value_counts()\n",
        "# Class distribution in the validation set\n",
        "class_distribution_val = y_val.value_counts()\n",
        "\n",
        "# Create a bar chart for the training set\n",
        "plt.figure(figsize=(8, 6))\n",
        "plt.bar(class_distribution_train.index, class_distribution_train.values)\n",
        "plt.title('Class Distribution in Training Set')\n",
        "plt.xlabel('Class')\n",
        "plt.ylabel('Count')\n",
        "plt.xticks(rotation=45)\n",
        "plt.tight_layout()\n",
        "plt.show()\n",
        "\n",
        "# Create a bar chart for the validation set\n",
        "plt.figure(figsize=(8, 6))\n",
        "plt.bar(class_distribution_val.index, class_distribution_val.values)\n",
        "plt.title('Class Distribution in Validation Set')\n",
        "plt.xlabel('Class')\n",
        "plt.ylabel('Count')\n",
        "plt.xticks(rotation=45)\n",
        "plt.tight_layout()\n",
        "plt.show()"
      ],
      "metadata": {
        "colab": {
          "base_uri": "https://localhost:8080/",
          "height": 1000
        },
        "id": "z-5P969toU0s",
        "outputId": "8f47b70a-4e54-43b4-91d5-9a2d886c1e0d"
      },
      "execution_count": 41,
      "outputs": [
        {
          "output_type": "display_data",
          "data": {
            "text/plain": [
              "<Figure size 800x600 with 1 Axes>"
            ],
            "image/png": "[encoded data removed]"
          },
          "metadata": {}
        },
        {
          "output_type": "display_data",
          "data": {
            "text/plain": [
              "<Figure size 800x600 with 1 Axes>"
            ],
            "image/png": "[encoded data removed]"
          },
          "metadata": {}
        }
      ]
    },
    {
      "cell_type": "code",
      "source": [
        "plt.show()\n"
      ],
      "metadata": {
        "id": "87GrtwN6I6kM"
      },
      "execution_count": 43,
      "outputs": []
    },
    {
      "cell_type": "code",
      "source": [
        "# Calculate class distribution for known and unknown classes in the training set\n",
        "class_distribution_train = y_train.value_counts()\n",
        "class_distribution_val = y_val.value_counts()\n",
        "\n",
        "# Combine known and unknown class counts into a single DataFrame\n",
        "combined_class_distribution = pd.DataFrame({\n",
        "    'Class': ['Known', 'Unknown'],\n",
        "    'Count': [class_distribution_train[0], class_distribution_train[0]]\n",
        "})\n",
        "\n",
        "# Create a bar chart for both known and unknown classes\n",
        "plt.figure(figsize=(8, 6))\n",
        "plt.bar(combined_class_distribution['Class'], combined_class_distribution['Count'])\n",
        "plt.title('Class Distribution in Training Set')\n",
        "plt.xlabel('Class')\n",
        "plt.ylabel('Count')\n",
        "plt.tight_layout()\n",
        "\n",
        "# Show the combined class distribution chart\n",
        "plt.show()"
      ],
      "metadata": {
        "colab": {
          "base_uri": "https://localhost:8080/",
          "height": 554
        },
        "id": "3Fry6OAEl5yB",
        "outputId": "7d20bf5d-0c5c-42f3-a4fa-7aecacdc2772"
      },
      "execution_count": 44,
      "outputs": [
        {
          "output_type": "display_data",
          "data": {
            "text/plain": [
              "<Figure size 800x600 with 1 Axes>"
            ],
            "image/png": "[encoded data removed]"
          },
          "metadata": {}
        }
      ]
    },
    {
      "cell_type": "code",
      "source": [
        "print(\"Length of y_val:\", len(y_val))\n"
      ],
      "metadata": {
        "colab": {
          "base_uri": "https://localhost:8080/"
        },
        "id": "YoSVwNs9oQAZ",
        "outputId": "7a3c3c83-c1a5-4bbe-b418-c9916b884bf2"
      },
      "execution_count": 45,
      "outputs": [
        {
          "output_type": "stream",
          "name": "stdout",
          "text": [
            "Length of y_val: 6626\n"
          ]
        }
      ]
    },
    {
      "cell_type": "code",
      "source": [
        "print(\"Length of anomalies:\", len(anomalies))\n"
      ],
      "metadata": {
        "colab": {
          "base_uri": "https://localhost:8080/"
        },
        "id": "Bl1fyaWcoT5d",
        "outputId": "8a9324e1-f0e6-4493-9303-752eca825993"
      },
      "execution_count": 46,
      "outputs": [
        {
          "output_type": "stream",
          "name": "stdout",
          "text": [
            "Length of anomalies: 6626\n"
          ]
        }
      ]
    },
    {
      "cell_type": "code",
      "source": [
        "for i, (true_label, anomaly_label) in enumerate(zip(y_val, anomalies)):\n",
        "    if true_label != anomaly_label:\n",
        "        print(f\"Mismatch at index {i}: true_label={true_label}, anomaly_label={anomaly_label}\")"
      ],
      "metadata": {
        "colab": {
          "base_uri": "https://localhost:8080/"
        },
        "id": "u7pd8Jmcob_w",
        "outputId": "83a3cc8c-85b9-4f50-870a-e9b32e829db7"
      },
      "execution_count": 47,
      "outputs": [
        {
          "output_type": "stream",
          "name": "stdout",
          "text": [
            "Mismatch at index 104: true_label=0, anomaly_label=1\n",
            "Mismatch at index 244: true_label=0, anomaly_label=1\n",
            "Mismatch at index 592: true_label=0, anomaly_label=1\n",
            "Mismatch at index 644: true_label=0, anomaly_label=1\n",
            "Mismatch at index 798: true_label=0, anomaly_label=1\n",
            "Mismatch at index 1012: true_label=0, anomaly_label=1\n",
            "Mismatch at index 1105: true_label=0, anomaly_label=1\n",
            "Mismatch at index 1260: true_label=0, anomaly_label=1\n",
            "Mismatch at index 1366: true_label=0, anomaly_label=1\n",
            "Mismatch at index 1473: true_label=0, anomaly_label=1\n",
            "Mismatch at index 1651: true_label=0, anomaly_label=1\n",
            "Mismatch at index 1879: true_label=0, anomaly_label=1\n",
            "Mismatch at index 2167: true_label=0, anomaly_label=1\n",
            "Mismatch at index 2386: true_label=0, anomaly_label=1\n",
            "Mismatch at index 2537: true_label=0, anomaly_label=1\n",
            "Mismatch at index 2694: true_label=0, anomaly_label=1\n",
            "Mismatch at index 2765: true_label=0, anomaly_label=1\n",
            "Mismatch at index 2794: true_label=0, anomaly_label=1\n",
            "Mismatch at index 2948: true_label=0, anomaly_label=1\n",
            "Mismatch at index 3112: true_label=0, anomaly_label=1\n",
            "Mismatch at index 3143: true_label=0, anomaly_label=1\n",
            "Mismatch at index 3239: true_label=0, anomaly_label=1\n",
            "Mismatch at index 3411: true_label=0, anomaly_label=1\n",
            "Mismatch at index 4056: true_label=0, anomaly_label=1\n",
            "Mismatch at index 4469: true_label=0, anomaly_label=1\n",
            "Mismatch at index 4706: true_label=0, anomaly_label=1\n",
            "Mismatch at index 4784: true_label=0, anomaly_label=1\n",
            "Mismatch at index 4896: true_label=0, anomaly_label=1\n",
            "Mismatch at index 5004: true_label=0, anomaly_label=1\n",
            "Mismatch at index 5070: true_label=0, anomaly_label=1\n",
            "Mismatch at index 5252: true_label=0, anomaly_label=1\n",
            "Mismatch at index 5403: true_label=0, anomaly_label=1\n",
            "Mismatch at index 5415: true_label=0, anomaly_label=1\n",
            "Mismatch at index 5529: true_label=0, anomaly_label=1\n",
            "Mismatch at index 5877: true_label=0, anomaly_label=1\n",
            "Mismatch at index 5878: true_label=0, anomaly_label=1\n",
            "Mismatch at index 5929: true_label=0, anomaly_label=1\n",
            "Mismatch at index 5949: true_label=0, anomaly_label=1\n",
            "Mismatch at index 6017: true_label=0, anomaly_label=1\n",
            "Mismatch at index 6030: true_label=0, anomaly_label=1\n",
            "Mismatch at index 6319: true_label=0, anomaly_label=1\n",
            "Mismatch at index 6341: true_label=0, anomaly_label=1\n",
            "Mismatch at index 6532: true_label=0, anomaly_label=1\n",
            "Mismatch at index 6609: true_label=0, anomaly_label=1\n"
          ]
        }
      ]
    },
    {
      "cell_type": "code",
      "source": [
        "from sklearn.utils import resample\n",
        "\n",
        "# Check the distribution of y_val labels\n",
        "class_distribution_val = pd.Series(y_val).value_counts()\n",
        "print(\"Class distribution in y_val:\\n\", class_distribution_val)\n",
        "\n",
        "# Check if there are both classes (0 and 1) in y_val\n",
        "if len(class_distribution_val) == 1:\n",
        "    # If only one class is present, balance the validation set with positive cases\n",
        "    positive_indices = np.where(np.array(y_val) == 1)[0]\n",
        "    if len(positive_indices) > 0:\n",
        "        # Randomly sample an equal number of non-anomalous samples\n",
        "        negative_indices = np.where(np.array(y_val) == 0)[0]\n",
        "        balanced_indices = np.concatenate([positive_indices, resample(negative_indices, n_samples=len(positive_indices))])\n",
        "\n",
        "        # Update y_val and reconstruction_errors with balanced data\n",
        "        y_val_balanced = np.array(y_val)[balanced_indices]\n",
        "        reconstruction_errors_balanced = np.array(reconstruction_errors)[balanced_indices]\n",
        "\n",
        "        # Calculate ROC AUC and other metrics using the balanced data\n",
        "        roc_auc_balanced = roc_auc_score(y_val_balanced, reconstruction_errors_balanced)\n",
        "        precision_balanced = precision_score(y_val_balanced, anomalies)\n",
        "        recall_balanced = recall_score(y_val_balanced, anomalies)\n",
        "        f1_balanced = f1_score(y_val_balanced, anomalies)\n",
        "        accuracy_balanced = accuracy_score(y_val_balanced, anomalies)\n",
        "\n",
        "        print(\"Balanced ROC AUC:\", roc_auc_balanced)\n",
        "        print(\"Balanced Precision:\", precision_balanced)\n",
        "        print(\"Balanced Recall:\", recall_balanced)\n",
        "        print(\"Balanced F1 Score:\", f1_balanced)\n",
        "        print(\"Balanced Accuracy:\", accuracy_balanced)\n",
        "    else:\n",
        "        print(\"No positive cases (anomalies) in the validation set.\")\n",
        "else:\n",
        "    # Calculate metrics using the original data\n",
        "    roc_auc = roc_auc_score(y_val, reconstruction_errors)\n",
        "    precision = precision_score(y_val, anomalies)\n",
        "    recall = recall_score(y_val, anomalies)\n",
        "    f1 = f1_score(y_val, anomalies)\n",
        "    accuracy = accuracy_score(y_val, anomalies)\n",
        "\n",
        "    print(\"Original ROC AUC:\", roc_auc)\n",
        "    print(\"Original Precision:\", precision)\n",
        "    print(\"Original Recall:\", recall)\n",
        "    print(\"Original F1 Score:\", f1)\n",
        "    print(\"Original Accuracy:\", accuracy)"
      ],
      "metadata": {
        "colab": {
          "base_uri": "https://localhost:8080/"
        },
        "id": "4-q_5UISwcH2",
        "outputId": "68856faf-bf90-448e-bc20-3e20f5e23331"
      },
      "execution_count": 49,
      "outputs": [
        {
          "output_type": "stream",
          "name": "stdout",
          "text": [
            "Class distribution in y_val:\n",
            " 0    6626\n",
            "Name: diagnosis, dtype: int64\n",
            "No positive cases (anomalies) in the validation set.\n"
          ]
        }
      ]
    },
    {
      "cell_type": "code",
      "source": [
        "import matplotlib.pyplot as plt\n",
        "\n",
        "# Define the metrics and their example values (replace with your actual values)\n",
        "metrics = ['ROC AUC', 'Precision', 'Recall', 'F1 Score', 'Accuracy']\n",
        "values = [0.85, 0.75, 0.80, 0.77, 0.82]  # Replace with your actual metric values\n",
        "\n",
        "# Create a bar chart\n",
        "plt.figure(figsize=(10, 6))\n",
        "plt.bar(metrics, values, color=['blue', 'green', 'red', 'purple', 'orange'])\n",
        "plt.title('Anomaly Detection Metrics (Balanced Validation Set)')\n",
        "plt.xlabel('Metrics')\n",
        "plt.ylabel('Values')\n",
        "plt.ylim(0, 1)  # Set the y-axis range between 0 and 1 (assuming these are percentage values)\n",
        "plt.show()"
      ],
      "metadata": {
        "colab": {
          "base_uri": "https://localhost:8080/",
          "height": 482
        },
        "id": "sYLMoIb5xJar",
        "outputId": "5fd617ab-c6cc-4a4a-c2f1-8d94e01f79a8"
      },
      "execution_count": 51,
      "outputs": [
        {
          "output_type": "display_data",
          "data": {
            "text/plain": [
              "<Figure size 1000x600 with 1 Axes>"
            ],
            "image/png": "[encoded data removed]"
          },
          "metadata": {}
        }
      ]
    },
    {
      "cell_type": "code",
      "source": [
        "import matplotlib.pyplot as plt\n",
        "\n",
        "# Sizes of the training and validation sets\n",
        "train_set_size = len(X_train)\n",
        "val_set_size = len(X_val)\n",
        "\n",
        "# Names for the bars\n",
        "labels = ['Training Set', 'Validation Set']\n",
        "\n",
        "# Sizes of the bars\n",
        "sizes = [train_set_size, val_set_size]\n",
        "\n",
        "# Create a bar chart\n",
        "plt.bar(labels, sizes, color=['blue', 'green'])\n",
        "\n",
        "# Add labels and title\n",
        "plt.xlabel('Dataset')\n",
        "plt.ylabel('Number of Samples')\n",
        "plt.title('Training Set vs. Validation Set Size')\n",
        "\n",
        "# Show the chart\n",
        "plt.show()"
      ],
      "metadata": {
        "colab": {
          "base_uri": "https://localhost:8080/",
          "height": 472
        },
        "id": "Ae-QbLA60bn1",
        "outputId": "e8137145-7552-49c4-b76f-e2682abf24b7"
      },
      "execution_count": 52,
      "outputs": [
        {
          "output_type": "display_data",
          "data": {
            "text/plain": [
              "<Figure size 640x480 with 1 Axes>"
            ],
            "image/png": "[encoded data removed]"
          },
          "metadata": {}
        }
      ]
    }
  ]
}