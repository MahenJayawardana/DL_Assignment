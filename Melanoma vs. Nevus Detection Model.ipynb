{
  "nbformat": 4,
  "nbformat_minor": 0,
  "metadata": {
    "colab": {
      "provenance": [],
      "gpuType": "T4"
    },
    "kernelspec": {
      "name": "python3",
      "display_name": "Python 3"
    },
    "language_info": {
      "name": "python"
    },
    "accelerator": "GPU"
  },
  "cells": [
    {
      "cell_type": "code",
      "execution_count": 1,
      "metadata": {
        "id": "uuh87nBlSi37"
      },
      "outputs": [],
      "source": [
        "import os\n",
        "import pandas as pd\n",
        "import numpy as np\n",
        "import shutil\n",
        "from sklearn.model_selection import train_test_split\n",
        "from sklearn.utils import shuffle\n",
        "from keras.preprocessing.image import ImageDataGenerator\n",
        "from keras.layers import Conv2D, MaxPooling2D, Flatten, Dense\n",
        "from keras.models import Sequential\n",
        "from keras.optimizers import Adam\n",
        "from keras.callbacks import EarlyStopping"
      ]
    },
    {
      "cell_type": "code",
      "source": [
        "# URLs for data and metadata\n",
        "image_data_url = \"https://isic-challenge-data.s3.amazonaws.com/2020/ISIC_2020_Training_JPEG.zip\"\n",
        "metadata_url = \"https://isic-challenge-data.s3.amazonaws.com/2020/ISIC_2020_Training_GroundTruth.csv\""
      ],
      "metadata": {
        "id": "XVKhDUHuT7xo"
      },
      "execution_count": 4,
      "outputs": []
    },
    {
      "cell_type": "code",
      "source": [
        "# Directory for data\n",
        "data_dir = './data'"
      ],
      "metadata": {
        "id": "fCsG5JDfT-wm"
      },
      "execution_count": 3,
      "outputs": []
    },
    {
      "cell_type": "code",
      "source": [
        "# Download and unzip data if it doesn't exist\n",
        "if not os.path.exists(os.path.join(data_dir, 'ISIC_2020_Training_JPEG')):\n",
        "    os.system(f\"wget {image_data_url} -P {data_dir}\")\n",
        "    os.system(f\"unzip {os.path.join(data_dir, 'ISIC_2020_Training_JPEG.zip')} -d {data_dir}\")"
      ],
      "metadata": {
        "id": "251AkBZuUH7o"
      },
      "execution_count": 5,
      "outputs": []
    },
    {
      "cell_type": "code",
      "source": [
        "# Read metadata\n",
        "metadata = pd.read_csv(metadata_url)"
      ],
      "metadata": {
        "id": "YPpxP9hPY0-8"
      },
      "execution_count": 6,
      "outputs": []
    },
    {
      "cell_type": "code",
      "source": [
        "# Map 'nevus' as 'nevus' and 'melanoma' as 'melanoma'\n",
        "metadata['diagnosis'] = metadata['diagnosis'].apply(lambda x: x.lower())"
      ],
      "metadata": {
        "id": "OrmE0-0lY8pL"
      },
      "execution_count": 7,
      "outputs": []
    },
    {
      "cell_type": "code",
      "source": [
        "# Filter out 'nevus' and 'melanoma' classes only\n",
        "valid_classes = ['nevus', 'melanoma']\n",
        "metadata_filtered = metadata[metadata['diagnosis'].isin(valid_classes)]\n",
        "metadata_filtered = shuffle(metadata_filtered, random_state=42)"
      ],
      "metadata": {
        "id": "wzVSHhBMZEDK"
      },
      "execution_count": 8,
      "outputs": []
    },
    {
      "cell_type": "code",
      "source": [
        "# Split the data into train and validation sets\n",
        "X_train, X_val, y_train, y_val = train_test_split(\n",
        "    metadata_filtered['image_name'], (metadata_filtered['diagnosis'] == 'melanoma').astype(int),\n",
        "    test_size=0.2, random_state=42, stratify=metadata_filtered['diagnosis']\n",
        ")"
      ],
      "metadata": {
        "id": "A0Yczsp2ZHHS"
      },
      "execution_count": 9,
      "outputs": []
    },
    {
      "cell_type": "code",
      "source": [
        "# Directories for training and validation data\n",
        "train_dir = os.path.join(data_dir, 'train')\n",
        "val_dir = os.path.join(data_dir, 'validation')"
      ],
      "metadata": {
        "id": "jVxhaMIpZJxp"
      },
      "execution_count": 10,
      "outputs": []
    },
    {
      "cell_type": "code",
      "source": [
        "# Create directories for classes\n",
        "for class_name in valid_classes:\n",
        "    os.makedirs(os.path.join(train_dir, class_name), exist_ok=True)\n",
        "    os.makedirs(os.path.join(val_dir, class_name), exist_ok=True)"
      ],
      "metadata": {
        "id": "MD4EdADVZK_q"
      },
      "execution_count": 11,
      "outputs": []
    },
    {
      "cell_type": "code",
      "source": [
        "# Copy images to class directories\n",
        "for image_name, label in zip(X_train, y_train):\n",
        "    class_name = 'melanoma' if label == 1 else 'nevus'\n",
        "    source_path = os.path.join(data_dir, 'train', f'{image_name}.jpg')\n",
        "    destination_path = os.path.join(train_dir, class_name, f'{image_name}.jpg')\n",
        "    if os.path.exists(source_path):\n",
        "        os.makedirs(os.path.dirname(destination_path), exist_ok=True)\n",
        "        shutil.copy(source_path, destination_path)\n",
        "    else:\n",
        "        print(f\"Image not found: {source_path}\")\n",
        "\n",
        "for image_name, label in zip(X_val, y_val):\n",
        "    class_name = 'melanoma' if label == 1 else 'nevus'\n",
        "    source_path = os.path.join(data_dir, 'train', f'{image_name}.jpg')\n",
        "    destination_path = os.path.join(val_dir, class_name, f'{image_name}.jpg')\n",
        "    if os.path.exists(source_path):\n",
        "        os.makedirs(os.path.dirname(destination_path), exist_ok=True)\n",
        "        shutil.copy(source_path, destination_path)\n",
        "    else:\n",
        "        print(f\"Image not found: {source_path}\")"
      ],
      "metadata": {
        "id": "lY1jrYHqZSRR"
      },
      "execution_count": 12,
      "outputs": []
    },
    {
      "cell_type": "code",
      "source": [
        "# Class distribution in the training and validation sets\n",
        "class_distribution_train = y_train.value_counts()\n",
        "class_distribution_val = y_val.value_counts()\n",
        "print(\"Class distribution in the training set:\\n\", class_distribution_train)\n",
        "print(\"\\nClass distribution in the validation set:\\n\", class_distribution_val)"
      ],
      "metadata": {
        "colab": {
          "base_uri": "https://localhost:8080/"
        },
        "id": "IQ14B8lyZb0q",
        "outputId": "1bf297fc-834b-4b8b-b594-f2ec32c28994"
      },
      "execution_count": 13,
      "outputs": [
        {
          "output_type": "stream",
          "name": "stdout",
          "text": [
            "Class distribution in the training set:\n",
            " 0    4154\n",
            "1     467\n",
            "Name: diagnosis, dtype: int64\n",
            "\n",
            "Class distribution in the validation set:\n",
            " 0    1039\n",
            "1     117\n",
            "Name: diagnosis, dtype: int64\n"
          ]
        }
      ]
    },
    {
      "cell_type": "code",
      "source": [
        "# Image dimensions and batch size\n",
        "img_width, img_height = 224, 224\n",
        "input_shape = (img_width, img_height, 3)\n",
        "batch_size = 32"
      ],
      "metadata": {
        "id": "3rRRlM7KZqSB"
      },
      "execution_count": 14,
      "outputs": []
    },
    {
      "cell_type": "code",
      "source": [
        "# Data augmentation and generators\n",
        "train_datagen = ImageDataGenerator(\n",
        "    rescale=1./255,\n",
        "    shear_range=0.2,\n",
        "    zoom_range=0.2,\n",
        "    horizontal_flip=True)\n",
        "\n",
        "train_generator = train_datagen.flow_from_directory(\n",
        "    train_dir,\n",
        "    target_size=(img_width, img_height),\n",
        "    batch_size=batch_size,\n",
        "    class_mode='binary',\n",
        "    classes=valid_classes\n",
        ")\n",
        "\n",
        "validation_datagen = ImageDataGenerator(rescale=1./255)\n",
        "\n",
        "validation_generator = validation_datagen.flow_from_directory(\n",
        "    val_dir,\n",
        "    target_size=(img_width, img_height),\n",
        "    batch_size=batch_size,\n",
        "    class_mode='binary',\n",
        "    classes=valid_classes\n",
        ")\n"
      ],
      "metadata": {
        "colab": {
          "base_uri": "https://localhost:8080/"
        },
        "id": "DJy2q8AtZyLd",
        "outputId": "59330eaa-54d2-4fcc-c43b-a7b82358e6d2"
      },
      "execution_count": 15,
      "outputs": [
        {
          "output_type": "stream",
          "name": "stdout",
          "text": [
            "Found 4621 images belonging to 2 classes.\n",
            "Found 1156 images belonging to 2 classes.\n"
          ]
        }
      ]
    },
    {
      "cell_type": "code",
      "source": [
        "# Model\n",
        "model = Sequential()\n",
        "model.add(Conv2D(32, (3, 3), activation='relu', input_shape=input_shape))\n",
        "model.add(MaxPooling2D((2, 2)))\n",
        "model.add(Conv2D(64, (3, 3), activation='relu'))\n",
        "model.add(MaxPooling2D((2, 2)))\n",
        "model.add(Conv2D(128, (3, 3), activation='relu'))\n",
        "model.add(MaxPooling2D((2, 2)))\n",
        "model.add(Flatten())\n",
        "model.add(Dense(128, activation='relu'))\n",
        "model.add(Dense(1, activation='sigmoid'))"
      ],
      "metadata": {
        "id": "y3VTcPwTZ0z9"
      },
      "execution_count": 16,
      "outputs": []
    },
    {
      "cell_type": "code",
      "source": [
        "# Compile the model\n",
        "model.compile(optimizer=Adam(learning_rate=0.0001), loss='binary_crossentropy', metrics=['accuracy'])"
      ],
      "metadata": {
        "id": "TCZzF_sRZ_MJ"
      },
      "execution_count": 17,
      "outputs": []
    },
    {
      "cell_type": "code",
      "source": [
        "# Train the model\n",
        "history = model.fit(\n",
        "    train_generator,\n",
        "    steps_per_epoch=train_generator.samples // batch_size,\n",
        "    validation_data=validation_generator,\n",
        "    validation_steps=validation_generator.samples // batch_size,\n",
        "    epochs=10,\n",
        "    callbacks=[EarlyStopping(patience=3)]\n",
        ")"
      ],
      "metadata": {
        "colab": {
          "base_uri": "https://localhost:8080/"
        },
        "id": "i50Jw8dMaDEq",
        "outputId": "794c7b7f-6bbb-468d-b07b-97b3f00dd449"
      },
      "execution_count": 20,
      "outputs": [
        {
          "output_type": "stream",
          "name": "stdout",
          "text": [
            "Epoch 1/10\n",
            "144/144 [==============================] - 183s 1s/step - loss: 0.1802 - accuracy: 0.9277 - val_loss: 0.1846 - val_accuracy: 0.9384\n",
            "Epoch 2/10\n",
            "144/144 [==============================] - 164s 1s/step - loss: 0.1823 - accuracy: 0.9255 - val_loss: 0.1828 - val_accuracy: 0.9358\n",
            "Epoch 3/10\n",
            "144/144 [==============================] - 161s 1s/step - loss: 0.1786 - accuracy: 0.9322 - val_loss: 0.1871 - val_accuracy: 0.9384\n",
            "Epoch 4/10\n",
            "144/144 [==============================] - 179s 1s/step - loss: 0.1723 - accuracy: 0.9335 - val_loss: 0.1851 - val_accuracy: 0.9271\n",
            "Epoch 5/10\n",
            "144/144 [==============================] - 180s 1s/step - loss: 0.1720 - accuracy: 0.9327 - val_loss: 0.1851 - val_accuracy: 0.9427\n"
          ]
        }
      ]
    },
    {
      "cell_type": "code",
      "source": [
        "# Evaluate the model\n",
        "evaluation = model.evaluate(validation_generator)\n",
        "print(\"Validation Loss:\", evaluation[0])\n",
        "print(\"Validation Accuracy:\", evaluation[1])"
      ],
      "metadata": {
        "colab": {
          "base_uri": "https://localhost:8080/"
        },
        "id": "DolTciN_eErJ",
        "outputId": "bf18eb8a-9661-4cce-b8c2-47f3c13ab704"
      },
      "execution_count": 21,
      "outputs": [
        {
          "output_type": "stream",
          "name": "stdout",
          "text": [
            "37/37 [==============================] - 21s 564ms/step - loss: 0.1845 - accuracy: 0.9429\n",
            "Validation Loss: 0.18450379371643066\n",
            "Validation Accuracy: 0.9429065585136414\n"
          ]
        }
      ]
    },
    {
      "cell_type": "code",
      "source": [
        "from keras.preprocessing import image\n",
        "from keras.applications.resnet50 import preprocess_input\n",
        "\n",
        "image_path = '/content/data/train/melanoma/ISIC_0250839.jpg'\n",
        "\n",
        "# Load and preprocess the image\n",
        "img = image.load_img(image_path, target_size=(img_width, img_height))\n",
        "img = image.img_to_array(img)\n",
        "img = preprocess_input(img)\n",
        "img = np.expand_dims(img, axis=0)  # Add batch dimension\n",
        "\n",
        "# Predict the class\n",
        "prediction = model.predict(img)\n",
        "\n",
        "if prediction > 0.5:\n",
        "    print(\"Melanoma\")\n",
        "else:\n",
        "    print(\"Nevus\")\n"
      ],
      "metadata": {
        "colab": {
          "base_uri": "https://localhost:8080/"
        },
        "id": "8ym-Q7Z2iYbH",
        "outputId": "e146b18d-4bf4-4dc9-8e36-772a06c2f6ef"
      },
      "execution_count": 27,
      "outputs": [
        {
          "output_type": "stream",
          "name": "stdout",
          "text": [
            "1/1 [==============================] - 0s 29ms/step\n",
            "Melanoma\n"
          ]
        }
      ]
    }
  ]
}