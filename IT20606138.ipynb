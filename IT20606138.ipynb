{
  "cells": [
    {
      "cell_type": "code",
      "execution_count": 1,
      "metadata": {
        "id": "rqcfGmuXF0UL"
      },
      "outputs": [],
      "source": [
        "\n",
        "import os\n",
        "import pandas as pd\n",
        "import numpy as np\n",
        "import shutil\n",
        "from sklearn.model_selection import train_test_split\n",
        "from sklearn.utils import shuffle\n",
        "from keras.preprocessing.image import ImageDataGenerator\n",
        "from keras.layers import Conv2D, MaxPooling2D, Flatten, Dense\n",
        "from keras.models import Sequential\n",
        "from keras.optimizers import Adam\n",
        "from keras.callbacks import EarlyStopping\n",
        "\n",
        "image_data_url = \"https://isic-challenge-data.s3.amazonaws.com/2020/ISIC_2020_Training_JPEG.zip\"\n",
        "metadata_url = \"https://isic-challenge-data.s3.amazonaws.com/2020/ISIC_2020_Training_GroundTruth.csv\"\n",
        "\n",
        "data_dir = './data'\n",
        "\n",
        "if not os.path.exists(os.path.join(data_dir, 'ISIC_2020_Training_JPEG')):\n",
        "    os.system(f\"wget {image_data_url} -P {data_dir}\")\n",
        "    os.system(f\"unzip {os.path.join(data_dir, 'ISIC_2020_Training_JPEG.zip')} -d {data_dir}\")\n",
        "\n",
        "metadata = pd.read_csv(metadata_url)\n",
        "\n"
      ]
    },
    {
      "cell_type": "code",
      "execution_count": 2,
      "metadata": {
        "colab": {
          "base_uri": "https://localhost:8080/"
        },
        "id": "kk3uDMJaxfp0",
        "outputId": "5fcef1b2-d935-48b2-cfd7-a8b131dbea39"
      },
      "outputs": [
        {
          "name": "stdout",
          "output_type": "stream",
          "text": [
            "X_train (image names):\n",
            "23336    ISIC_7095039\n",
            "30562    ISIC_9233009\n",
            "2621     ISIC_0885962\n",
            "979      ISIC_0401116\n",
            "10465    ISIC_3237557\n",
            "Name: image_name, dtype: object\n",
            "\n",
            "y_train (labels based on 'diagnosis'):\n",
            "23336    0\n",
            "30562    0\n",
            "2621     0\n",
            "979      0\n",
            "10465    0\n",
            "Name: diagnosis, dtype: int64\n",
            "Class distribution in the training set:\n",
            " 0    21700\n",
            "1     4800\n",
            "Name: diagnosis, dtype: int64\n",
            "\n",
            "Class distribution in the validation set:\n",
            " 0    5426\n",
            "1    1200\n",
            "Name: diagnosis, dtype: int64\n"
          ]
        }
      ],
      "source": [
        "\n",
        "metadata['known'] = (metadata['diagnosis'] != 'unknown').astype(str)\n",
        "\n",
        "# Identify classes with very few samples and group them as 'unknown'\n",
        "class_counts = metadata['diagnosis'].value_counts()\n",
        "rare_classes = class_counts[class_counts < 2].index\n",
        "metadata['diagnosis'] = metadata['diagnosis'].apply(lambda x: 'unknown' if x in rare_classes else x)\n",
        "\n",
        "\n",
        "class_counts = metadata['diagnosis'].value_counts()\n",
        "valid_classes = class_counts[class_counts >= 2].index\n",
        "metadata_filtered = metadata[metadata['diagnosis'].isin(valid_classes)]\n",
        "metadata_filtered = shuffle(metadata_filtered, random_state=42)\n",
        "\n",
        "X_train, X_val, y_train, y_val = train_test_split(\n",
        "    metadata['image_name'], (metadata['diagnosis'] != 'unknown').astype(int),  # Use 'diagnosis' for labels\n",
        "    test_size=0.2, random_state=42, stratify=metadata['diagnosis']\n",
        ")\n",
        "\n",
        "train_dir = os.path.join(data_dir, 'train')\n",
        "val_dir = os.path.join(data_dir, 'validation')\n",
        "\n",
        "print(\"X_train (image names):\")\n",
        "print(X_train.head())\n",
        "\n",
        "print(\"\\ny_train (labels based on 'diagnosis'):\")\n",
        "print(y_train.head())\n",
        "\n",
        "for class_name in ['known', 'unknown']:\n",
        "    os.makedirs(os.path.join(train_dir, class_name), exist_ok=True)\n",
        "    os.makedirs(os.path.join(val_dir, class_name), exist_ok=True)\n",
        "\n",
        "for image_name, label in zip(X_train, y_train):\n",
        "    class_name = 'known' if label == 1 else 'unknown'  # Corrected class assignment\n",
        "    source_path = os.path.join(data_dir, 'train', f'{image_name}.jpg')  # Updated path to 'train' folder\n",
        "    destination_path = os.path.join(train_dir, class_name, f'{image_name}.jpg')\n",
        "\n",
        "    # Ensure the source image exists before copying\n",
        "    if os.path.exists(source_path):\n",
        "        os.makedirs(os.path.dirname(destination_path), exist_ok=True)\n",
        "        shutil.copy(source_path, destination_path)\n",
        "    else:\n",
        "        print(f\"Image not found: {source_path}\")\n",
        "\n",
        "for image_name, label in zip(X_val, y_val):\n",
        "    class_name = 'known' if label == 1 else 'unknown'\n",
        "    source_path = os.path.join(data_dir, 'train', f'{image_name}.jpg')  # Updated path to 'train' folder\n",
        "    destination_path = os.path.join(val_dir, class_name, f'{image_name}.jpg')\n",
        "\n",
        "    # Ensure the source image exists before copying\n",
        "    if os.path.exists(source_path):\n",
        "        os.makedirs(os.path.dirname(destination_path), exist_ok=True)\n",
        "        shutil.copy(source_path, destination_path)\n",
        "    else:\n",
        "        print(f\"Image not found: {source_path}\")\n",
        "\n",
        "class_distribution_train = y_train.value_counts()\n",
        "print(\"Class distribution in the training set:\\n\", class_distribution_train)\n",
        "\n",
        "# Display the class distribution in the validation set\n",
        "class_distribution_val = y_val.value_counts()\n",
        "print(\"\\nClass distribution in the validation set:\\n\", class_distribution_val)\n",
        "\n"
      ]
    },
    {
      "cell_type": "code",
      "execution_count": 3,
      "metadata": {
        "colab": {
          "base_uri": "https://localhost:8080/"
        },
        "id": "HpgXubMZOrxL",
        "outputId": "969f3112-9646-4ec0-9d33-c1b1a5ab4824"
      },
      "outputs": [
        {
          "name": "stdout",
          "output_type": "stream",
          "text": [
            "Found 26500 images belonging to 2 classes.\n",
            "Found 6626 images belonging to 2 classes.\n"
          ]
        }
      ],
      "source": [
        "# Image dimensions and batch size\n",
        "img_width, img_height = 224, 224\n",
        "input_shape = (img_width, img_height, 3)\n",
        "batch_size = 32\n",
        "class_names = ['known', 'unknown']\n",
        "# Data augmentation and generators\n",
        "train_datagen = ImageDataGenerator(\n",
        "    rescale=1./255,\n",
        "    shear_range=0.2,\n",
        "    zoom_range=0.2,\n",
        "    horizontal_flip=True)\n",
        "\n",
        "train_generator = train_datagen.flow_from_directory(\n",
        "    train_dir,\n",
        "    target_size=(img_width, img_height),\n",
        "    batch_size=batch_size,\n",
        "    class_mode='binary',\n",
        "    classes=class_names\n",
        ")\n",
        "\n",
        "validation_datagen = ImageDataGenerator(rescale=1./255)\n",
        "\n",
        "validation_generator = validation_datagen.flow_from_directory(\n",
        "    val_dir,\n",
        "    target_size=(img_width, img_height),\n",
        "    batch_size=batch_size,\n",
        "    class_mode='binary',\n",
        "    classes=class_names\n",
        ")\n",
        "\n"
      ]
    },
    {
      "cell_type": "code",
      "execution_count": 4,
      "metadata": {
        "id": "MtZ6itFKGgOQ"
      },
      "outputs": [],
      "source": [
        "# Model\n",
        "model = Sequential()\n",
        "model.add(Conv2D(32, (3, 3), activation='relu', input_shape=input_shape))\n",
        "model.add(MaxPooling2D((2, 2)))\n",
        "model.add(Conv2D(64, (3, 3), activation='relu'))\n",
        "model.add(MaxPooling2D((2, 2)))\n",
        "model.add(Conv2D(128, (3, 3), activation='relu'))\n",
        "model.add(MaxPooling2D((2, 2)))\n",
        "model.add(Flatten())\n",
        "model.add(Dense(128, activation='relu'))\n",
        "model.add(Dense(1, activation='sigmoid'))"
      ]
    },
    {
      "cell_type": "code",
      "execution_count": 5,
      "metadata": {
        "id": "p3Z5NL4lGqC1"
      },
      "outputs": [],
      "source": [
        "model.compile(optimizer=Adam(learning_rate=0.0001), loss='binary_crossentropy', metrics=['accuracy'])"
      ]
    },
    {
      "cell_type": "code",
      "execution_count": 6,
      "metadata": {
        "colab": {
          "base_uri": "https://localhost:8080/"
        },
        "id": "4p0PHMh5GyCO",
        "outputId": "b688575f-83d7-4873-c296-b899e4593bc2"
      },
      "outputs": [
        {
          "name": "stdout",
          "output_type": "stream",
          "text": [
            "Epoch 1/5\n",
            "828/828 [==============================] - 5446s 7s/step - loss: 0.2519 - accuracy: 0.9174 - val_loss: 0.2155 - val_accuracy: 0.9343\n",
            "Epoch 2/5\n",
            "828/828 [==============================] - 5407s 7s/step - loss: 0.1993 - accuracy: 0.9357 - val_loss: 0.1876 - val_accuracy: 0.9431\n",
            "Epoch 3/5\n",
            "828/828 [==============================] - 5485s 7s/step - loss: 0.1804 - accuracy: 0.9414 - val_loss: 0.1983 - val_accuracy: 0.9443\n",
            "Epoch 4/5\n",
            "828/828 [==============================] - 5565s 7s/step - loss: 0.1721 - accuracy: 0.9433 - val_loss: 0.1719 - val_accuracy: 0.9452\n",
            "Epoch 5/5\n",
            "828/828 [==============================] - 5669s 7s/step - loss: 0.1666 - accuracy: 0.9439 - val_loss: 0.1842 - val_accuracy: 0.9414\n"
          ]
        }
      ],
      "source": [
        "# Train the model\n",
        "history = model.fit(\n",
        "    train_generator,\n",
        "    steps_per_epoch=train_generator.samples // batch_size,\n",
        "    validation_data=validation_generator,\n",
        "    validation_steps=validation_generator.samples // batch_size,\n",
        "    epochs=5,\n",
        "    callbacks=[EarlyStopping(patience=3)]\n",
        ")"
      ]
    },
    {
      "cell_type": "code",
      "execution_count": 7,
      "metadata": {
        "colab": {
          "base_uri": "https://localhost:8080/"
        },
        "id": "qTeymibCG34t",
        "outputId": "683da60f-9cb2-487e-d891-4b9e02b44559"
      },
      "outputs": [
        {
          "name": "stdout",
          "output_type": "stream",
          "text": [
            "208/208 [==============================] - 777s 4s/step - loss: 0.1842 - accuracy: 0.9414\n",
            "Validation Loss: 0.1841851770877838\n",
            "Validation Accuracy: 0.9414427876472473\n"
          ]
        }
      ],
      "source": [
        "# Evaluate the model\n",
        "evaluation = model.evaluate(validation_generator)\n",
        "print(\"Validation Loss:\", evaluation[0])\n",
        "print(\"Validation Accuracy:\", evaluation[1])"
      ]
    },
    {
      "cell_type": "code",
      "execution_count": 11,
      "metadata": {
        "colab": {
          "base_uri": "https://localhost:8080/"
        },
        "id": "dQXrbiqnqewx",
        "outputId": "12160bb4-1340-4526-b172-07fcc4fda168"
      },
      "outputs": [
        {
          "name": "stdout",
          "output_type": "stream",
          "text": [
            "1/1 [==============================] - 0s 90ms/step\n",
            "unknown\n"
          ]
        }
      ],
      "source": [
        "from keras.preprocessing import image\n",
        "from keras.applications.resnet50 import preprocess_input\n",
        "\n",
        "image_path = '/content/data/train/ISIC_0074268.jpg'\n",
        "\n",
        "# Load and preprocess the image\n",
        "img = image.load_img(image_path, target_size=(img_width, img_height))\n",
        "img = image.img_to_array(img)\n",
        "img = preprocess_input(img)\n",
        "img = np.expand_dims(img, axis=0)  # Add batch dimension\n",
        "\n",
        "# Predict the class\n",
        "prediction = model.predict(img)\n",
        "\n",
        "if prediction > 0.5:\n",
        "    print(\"unknown\")\n",
        "else:\n",
        "    print(\"known\")"
      ]
    },
    {
      "cell_type": "code",
      "execution_count": null,
      "metadata": {},
      "outputs": [],
      "source": [
        "import matplotlib.pyplot as plt  # Import Matplotlib for plotting\n",
        "\n",
        "\n",
        "\n",
        "# Display a bar graph for class distribution of 'known' and 'unknown'\n",
        "class_distribution_train = y_train.value_counts()\n",
        "class_distribution_val = y_val.value_counts()\n",
        "\n",
        "# Plotting the bar graph\n",
        "plt.figure(figsize=(10, 6))\n",
        "plt.bar(class_distribution_train.index.astype(str), class_distribution_train.values, alpha=0.6, label='Train Set')\n",
        "plt.bar(class_distribution_val.index.astype(str), class_distribution_val.values, alpha=0.6, label='Validation Set')\n",
        "plt.xlabel('Classes')\n",
        "plt.ylabel('Count')\n",
        "plt.title('Class Distribution of Known and Unknown Classes')\n",
        "plt.legend()\n",
        "plt.show()\n",
        "\n",
        "\n"
      ]
    },
    {
      "cell_type": "markdown",
      "metadata": {},
      "source": [
        "![Alt text](Untitled.png)"
      ]
    },
    {
      "cell_type": "code",
      "execution_count": null,
      "metadata": {},
      "outputs": [],
      "source": [
        "import seaborn as sns\n",
        "\n",
        "# Create a scatterplot to visualize all classes\n",
        "plt.figure(figsize=(10, 6))\n",
        "sns.scatterplot(data=metadata_filtered, x=metadata_filtered.index, y=\"diagnosis\", hue=\"diagnosis\", palette=\"Set1\")\n",
        "plt.xlabel('Data Points')\n",
        "plt.ylabel('Classes')\n",
        "plt.title('Scatterplot of All Classes')\n",
        "plt.legend(loc='upper right', title='Classes')\n",
        "plt.show()\n"
      ]
    },
    {
      "cell_type": "markdown",
      "metadata": {},
      "source": [
        "![Alt text](Untitled-1.png)"
      ]
    },
    {
      "cell_type": "code",
      "execution_count": null,
      "metadata": {},
      "outputs": [],
      "source": [
        "import pandas as pd\n",
        "import matplotlib.pyplot as plt\n",
        "# Count the occurrences of each class\n",
        "class_distribution = metadata['diagnosis'].value_counts()\n",
        "\n",
        "# Sort the classes by count (optional)\n",
        "class_distribution = class_distribution.sort_values(ascending=False)\n",
        "\n",
        "# Create a bar plot\n",
        "plt.figure(figsize=(10, 6))\n",
        "plt.bar(class_distribution.index, class_distribution.values, color='skyblue')\n",
        "plt.xlabel('Class')\n",
        "plt.ylabel('Count')\n",
        "plt.title('Class Distribution')\n",
        "plt.xticks(rotation=45, ha='right')  # Rotate x-axis labels for readability\n",
        "plt.tight_layout()  # Ensure labels fit within the figure\n",
        "\n",
        "plt.show()"
      ]
    },
    {
      "cell_type": "markdown",
      "metadata": {},
      "source": [
        "![Alt text](Untitled-2.png)"
      ]
    }
  ],
  "metadata": {
    "colab": {
      "provenance": []
    },
    "kernelspec": {
      "display_name": "Python 3",
      "name": "python3"
    },
    "language_info": {
      "name": "python"
    }
  },
  "nbformat": 4,
  "nbformat_minor": 0
}
